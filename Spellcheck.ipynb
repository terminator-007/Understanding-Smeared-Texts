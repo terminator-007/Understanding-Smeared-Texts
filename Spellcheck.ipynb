{
 "cells": [
  {
   "cell_type": "code",
   "execution_count": 1,
   "metadata": {},
   "outputs": [],
   "source": [
    "from spellchecker import SpellChecker\n",
    "from textblob import TextBlob\n",
    "import pickle\n",
    "\n",
    "infile1 = open('dump_final.pkl','rb')\n",
    "lineList = pickle.load(infile1)\n",
    "infile1.close()\n",
    "\n",
    "corpus = '/home/varshini/Capstone/HTR/data/corpus.txt'\n",
    "with open(corpus, 'r') as file:\n",
    "    data = file.read().replace('\\n', '')\n",
    "\n",
    "blob = TextBlob(data)\n",
    "#nouns = blob.noun_phrases\n",
    "spell = SpellChecker() \n",
    "#with open('nouns.pkl', 'wb') as f:\n",
    "    #pickle.dump(nouns, f)\n",
    "    \n",
    "infile2 = open('nouns.pkl','rb')\n",
    "nouns = pickle.load(infile2)\n",
    "infile2.close()\n",
    "\n",
    "spell.word_frequency.load_text_file('/home/varshini/Capstone/HTR/data/corpus.txt')\n",
    "\n",
    "#To make sure some words are not flagged as misspelled\n",
    "spell.word_frequency.load_words(nouns)"
   ]
  },
  {
   "cell_type": "code",
   "execution_count": 2,
   "metadata": {},
   "outputs": [],
   "source": [
    "lineList1 = lineList"
   ]
  },
  {
   "cell_type": "code",
   "execution_count": 3,
   "metadata": {},
   "outputs": [],
   "source": [
    "def spellcheck(lineList1):\n",
    "    wordlist = lineList1.split()\n",
    "    misspelled = spell.unknown(wordlist)\n",
    "    for idx,value in enumerate(wordlist):\n",
    "        temp = \"\"\n",
    "        if value in misspelled:\n",
    "            value = value.lower()\n",
    "            #print(value)\n",
    "            # Get the one `most likely` answer\n",
    "            temp = temp.join(spell.correction(value))\n",
    "            wordlist[idx] = temp        \n",
    "    sentence = \" \"\n",
    "    return sentence.join(wordlist)\n",
    "    \n",
    "#for i,line in enumerate(lineList1):\n",
    "    #lineList1[i] = (spellcheck(line))"
   ]
  },
  {
   "cell_type": "code",
   "execution_count": 5,
   "metadata": {},
   "outputs": [],
   "source": [
    "#with open('spellcheck.pkl', 'wb') as f:\n",
    "    #pickle.dump(lineList1, f)"
   ]
  },
  {
   "cell_type": "code",
   "execution_count": null,
   "metadata": {},
   "outputs": [],
   "source": [
    "from nltk.tokenize import sent_tokenize\n",
    "import re\n",
    "\n",
    "def truecasing_by_sentence_segmentation(input_text):\n",
    "    # split the text into sentences\n",
    "    sentences = sent_tokenize(input_text, language='english')\n",
    "    # capitalize the sentences\n",
    "    sentences_capitalized = [s.capitalize() for s in sentences]\n",
    "    # join the capitalized sentences\n",
    "    text_truecase = re.sub(\" (?=[\\.,'!?:;])\", \"\", ' '.join(sentences_capitalized))\n",
    "    return text_truecase\n",
    "\n",
    "x = lineList[:10]\n",
    "for line in x:\n",
    "    print(line,\"\\n\")\n",
    "    print(truecasing_by_sentence_segmentation(line),\"\\n######\\n\")"
   ]
  },
  {
   "cell_type": "code",
   "execution_count": 4,
   "metadata": {},
   "outputs": [],
   "source": [
    "s = \"Since 1958 i3 Laboun Hfe Peeas and Peeresses have been conated Mast Labour sentiments would still the abolition the House Loads , but while it semains tabounr has to have ,u adegeate number of members . thewoo Gival Nationalist Parssties of Nonthe te echaenge foom . the federal Prremie\""
   ]
  },
  {
   "cell_type": "code",
   "execution_count": 5,
   "metadata": {},
   "outputs": [
    {
     "data": {
      "text/plain": [
       "'Since 1958 in Laboun Hfe Peeas and Peeresses have been donated Mast Labour sentiments would still the abolition the House Loads , but while it remains labour has to have du adequate number of members . theo Gival Nationalist Parssties of Nonthe te change from . the federal Prremie'"
      ]
     },
     "execution_count": 5,
     "metadata": {},
     "output_type": "execute_result"
    }
   ],
   "source": [
    "spellcheck(s)"
   ]
  },
  {
   "cell_type": "code",
   "execution_count": 9,
   "metadata": {},
   "outputs": [
    {
     "data": {
      "text/plain": [
       "'Since 1958 i3 Laboun Hfe Peeas and Peeresses have been conated Mast Labour sentiments would still the abolition the House Loads , but while it semains tabounr has to have ,u adegeate number of members . thewoo Gival Nationalist Parssties of Nonthe te echaenge foom . the federal Prremie'"
      ]
     },
     "execution_count": 9,
     "metadata": {},
     "output_type": "execute_result"
    }
   ],
   "source": [
    "s"
   ]
  },
  {
   "cell_type": "code",
   "execution_count": null,
   "metadata": {},
   "outputs": [],
   "source": []
  }
 ],
 "metadata": {
  "kernelspec": {
   "display_name": "Python 3",
   "language": "python",
   "name": "python3"
  },
  "language_info": {
   "codemirror_mode": {
    "name": "ipython",
    "version": 3
   },
   "file_extension": ".py",
   "mimetype": "text/x-python",
   "name": "python",
   "nbconvert_exporter": "python",
   "pygments_lexer": "ipython3",
   "version": "3.6.8"
  }
 },
 "nbformat": 4,
 "nbformat_minor": 2
}
