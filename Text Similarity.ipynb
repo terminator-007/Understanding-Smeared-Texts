{
 "cells": [
  {
   "cell_type": "code",
   "execution_count": 1,
   "metadata": {},
   "outputs": [],
   "source": [
    "from fuzzywuzzy import process, fuzz\n",
    "import pickle\n",
    "import enchant\n",
    "import difflib\n",
    "from textblob import TextBlob\n",
    "from spellchecker import SpellChecker\n",
    "import matplotlib.pyplot as plt\n",
    "d = enchant.Dict(\"en_UK\")\n",
    "from difflib import SequenceMatcher\n",
    "from fuzzywuzzy import fuzz\n",
    "import os"
   ]
  },
  {
   "cell_type": "code",
   "execution_count": 2,
   "metadata": {},
   "outputs": [],
   "source": [
    "#Loading the dump file - OCR Predictions\n",
    "lineList = [line.rstrip('\\n') for line in open('/home/varshini/Downloads/dump (2).txt')]\n",
    "\n",
    "#Cleaning the dump file \n",
    "lineList = list(filter(lambda a: a != '', lineList))\n",
    "del lineList[::2]       \n",
    "len(lineList)\n",
    "\n",
    "#IAM Corpus\n",
    "infile = open('IAM_final.pkl','rb')\n",
    "IAM_sentences = pickle.load(infile)\n",
    "infile.close()\n",
    "\n",
    "infile1 = open('dump_final.pkl','rb')\n",
    "lineList = pickle.load(infile1)\n",
    "infile1.close()\n",
    "\n",
    "infile2 = open('/home/varshini/Capstone/spellcheck.pkl','rb')\n",
    "linelistnew = pickle.load(infile2)\n",
    "infile2.close()"
   ]
  },
  {
   "cell_type": "code",
   "execution_count": null,
   "metadata": {},
   "outputs": [],
   "source": [
    "IAM_sentences[44]"
   ]
  },
  {
   "cell_type": "code",
   "execution_count": null,
   "metadata": {},
   "outputs": [],
   "source": [
    "lineList[44]"
   ]
  },
  {
   "cell_type": "code",
   "execution_count": null,
   "metadata": {},
   "outputs": [],
   "source": [
    "linelistnew[44]"
   ]
  },
  {
   "cell_type": "code",
   "execution_count": null,
   "metadata": {},
   "outputs": [],
   "source": [
    "IAM_sentences[30]"
   ]
  },
  {
   "cell_type": "code",
   "execution_count": null,
   "metadata": {},
   "outputs": [],
   "source": [
    "lineList[30]"
   ]
  },
  {
   "cell_type": "code",
   "execution_count": null,
   "metadata": {},
   "outputs": [],
   "source": [
    "linelistnew[30]"
   ]
  },
  {
   "cell_type": "markdown",
   "metadata": {},
   "source": [
    "### Text Input to OCR (Blurred Handwritten Image) "
   ]
  },
  {
   "cell_type": "code",
   "execution_count": null,
   "metadata": {},
   "outputs": [],
   "source": [
    "IAM_sentences[307]"
   ]
  },
  {
   "cell_type": "markdown",
   "metadata": {},
   "source": [
    "### OCR Prediction"
   ]
  },
  {
   "cell_type": "code",
   "execution_count": null,
   "metadata": {},
   "outputs": [],
   "source": [
    "lineList[307]"
   ]
  },
  {
   "cell_type": "markdown",
   "metadata": {},
   "source": [
    "### Spellcheck corrections"
   ]
  },
  {
   "cell_type": "code",
   "execution_count": null,
   "metadata": {},
   "outputs": [],
   "source": [
    "linelistnew[307]"
   ]
  },
  {
   "cell_type": "code",
   "execution_count": null,
   "metadata": {},
   "outputs": [],
   "source": [
    "#corpus = '/home/varshini/Capstone/HTR/data/corpus.txt'\n",
    "#with open(corpus, 'r') as file:\n",
    "#    data = file.read().replace('\\n', '')\n",
    "\n",
    "#blob = TextBlob(data)\n",
    "#nouns = blob.noun_phrases"
   ]
  },
  {
   "cell_type": "code",
   "execution_count": null,
   "metadata": {},
   "outputs": [],
   "source": [
    "#infile = open('IAM.pkl','rb')\n",
    "#IAM_sentences = pickle.load(infile)\n",
    "#spell = open('/home/varshini/Capstone/corrected_lines.pkl','rb')\n",
    "#clean = pickle.load(spell)"
   ]
  },
  {
   "cell_type": "markdown",
   "metadata": {},
   "source": [
    "### Spellcheck"
   ]
  },
  {
   "cell_type": "code",
   "execution_count": null,
   "metadata": {},
   "outputs": [],
   "source": [
    "import spellchecker"
   ]
  },
  {
   "cell_type": "code",
   "execution_count": null,
   "metadata": {},
   "outputs": [],
   "source": [
    "from spellchecker import SpellChecker\n",
    "\n",
    "spell = SpellChecker()\n",
    "\n",
    "# find those words that may be misspelled\n",
    "misspelled = spell.unknown(lineList[263].split())\n",
    "\n",
    "for word in misspelled:\n",
    "    # Get the one `most likely` answer\n",
    "    print(\"Incorrect Word -->\", word)\n",
    "    print(\"Correction     -->\", spell.correction(word))\n",
    "    # Get a list of `likely` options\n",
    "    print(\"Suggestions\", spell.candidates(word))"
   ]
  },
  {
   "cell_type": "code",
   "execution_count": null,
   "metadata": {},
   "outputs": [],
   "source": [
    "IAM_sentences[0]"
   ]
  },
  {
   "cell_type": "code",
   "execution_count": null,
   "metadata": {},
   "outputs": [],
   "source": [
    "lineList[0]"
   ]
  },
  {
   "cell_type": "code",
   "execution_count": null,
   "metadata": {},
   "outputs": [],
   "source": [
    "misspelled"
   ]
  },
  {
   "cell_type": "markdown",
   "metadata": {},
   "source": [
    "### Cosine Similarity "
   ]
  },
  {
   "cell_type": "code",
   "execution_count": null,
   "metadata": {},
   "outputs": [],
   "source": [
    "from nltk.corpus import stopwords \n",
    "from nltk.tokenize import word_tokenize \n",
    "\n",
    "def cosine_similarity(X_list,Y_list):\n",
    "    # tokenization \n",
    "    X_list = word_tokenize(X_list) \n",
    "    Y_list = word_tokenize(Y_list) \n",
    "\n",
    "    # sw contains the list of stopwords \n",
    "    stop_words = stopwords.words('english')\n",
    "    l1 =[];l2 =[] \n",
    "\n",
    "    # remove stop words from string \n",
    "    X_set = {w for w in X_list if not w in stop_words} \n",
    "    Y_set = {w for w in Y_list if not w in stop_words} \n",
    "\n",
    "    # form a set containing keywords of both strings \n",
    "    rvector = X_set.union(Y_set) \n",
    "    for w in rvector: \n",
    "        if w in X_set: l1.append(1) # create a vector \n",
    "        else: l1.append(0) \n",
    "        if w in Y_set: l2.append(1) \n",
    "        else: l2.append(0) \n",
    "    c = 0\n",
    "\n",
    "    # cosine formula \n",
    "    for i in range(len(rvector)): \n",
    "            c+= l1[i]*l2[i] \n",
    "    cosine = c / float((sum(l1)*sum(l2))**0.5) \n",
    "    #print(\"similarity: \", cosine) \n",
    "    return cosine"
   ]
  },
  {
   "cell_type": "markdown",
   "metadata": {},
   "source": [
    "### Word Mover Distance"
   ]
  },
  {
   "cell_type": "code",
   "execution_count": null,
   "metadata": {},
   "outputs": [],
   "source": [
    "def calc_wmdistance(a,b,model):\n",
    "    from gensim.models import Word2Vec, word2vec\n",
    "    import os\n",
    "    a = a.lower().split()\n",
    "    b = b.lower().split()\n",
    "    stop_words = stopwords.words('english')\n",
    "    a = [w for w in a if w not in stop_words]\n",
    "    b = [w for w in b if w not in stop_words]\n",
    "    distance = model.wmdistance(a,b)\n",
    "    return distance\n",
    "\n",
    "import gensim\n",
    "if not os.path.exists('/home/varshini/Downloads/GoogleNews-vectors-negative300.bin.gz'):\n",
    "    raise ValueError(\"Download Google News Model\")\n",
    "model = gensim.models.KeyedVectors.load_word2vec_format('/home/varshini/Downloads/GoogleNews-vectors-negative300.bin.gz',binary=True,limit=500000)"
   ]
  },
  {
   "cell_type": "markdown",
   "metadata": {},
   "source": [
    "### Cosine Similarity and Word Movers Distance for Predicted Sentences"
   ]
  },
  {
   "cell_type": "code",
   "execution_count": null,
   "metadata": {},
   "outputs": [],
   "source": [
    "dump = lineList\n",
    "IAM = IAM_sentences\n",
    "avg_wmd =[]\n",
    "cos_sim = []\n",
    "for i in range(len(dump)):\n",
    "    #print(dump[i],\"\\n\\n\",IAM[i],\"\\n##########\\n\")\n",
    "    dumpl = dump[i].lower()\n",
    "    iaml = IAM[i].lower()\n",
    "    wmd = calc_wmdistance(iaml,dumpl,model)\n",
    "    cos = cosine_similarity(iaml,dumpl)\n",
    "    cos_sim.append(cos)   \n",
    "    avg_wmd.append(wmd) "
   ]
  },
  {
   "cell_type": "code",
   "execution_count": null,
   "metadata": {},
   "outputs": [],
   "source": [
    "avg_wmd_clean =[]\n",
    "cos_sim_clean = []\n",
    "IAM = IAM_sentences\n",
    "for i in range(len(linelistnew)):\n",
    "    #print(dump[i],\"\\n\\n\",IAM[i],\"\\n##########\\n\")\n",
    "    dumpl = linelistnew[i].lower()\n",
    "    iaml = IAM[i].lower()\n",
    "    wmd = calc_wmdistance(iaml,dumpl,model)\n",
    "    cos = cosine_similarity(iaml,dumpl)\n",
    "    cos_sim_clean.append(cos)   \n",
    "    avg_wmd_clean.append(wmd)    "
   ]
  },
  {
   "cell_type": "markdown",
   "metadata": {},
   "source": [
    "### Fuzzy Token Set Sort"
   ]
  },
  {
   "cell_type": "code",
   "execution_count": 3,
   "metadata": {},
   "outputs": [],
   "source": [
    "dump = lineList\n",
    "IAM = IAM_sentences\n",
    "edit_distances =[]\n",
    "fpr = []\n",
    "ftsort = []\n",
    "ftset = []\n",
    "for i in range(len(dump)-1):\n",
    "    #print(dump[i],\"\\n\\n\",IAM[i],\"\\n##########\\n\")\n",
    "    dumpl = dump[i].lower()\n",
    "    iaml = IAM[i].lower()\n",
    "    match = SequenceMatcher(None,dumpl, iaml)\n",
    "    edit_dist = match.ratio()\n",
    "    edit_distances.append(edit_dist) \n",
    "    \n",
    "    token_sort_ratio = fuzz.token_sort_ratio(dumpl, iaml)\n",
    "    ftsort.append(token_sort_ratio)\n",
    "    \n",
    "    token_set_ratio = fuzz.token_set_ratio(dumpl, iaml)\n",
    "    ftset.append(token_set_ratio)"
   ]
  },
  {
   "cell_type": "code",
   "execution_count": 4,
   "metadata": {},
   "outputs": [],
   "source": [
    "edit_distances_clean =[]\n",
    "ftsort_clean  = []\n",
    "ftset_clean  = []\n",
    "for i in range(len(linelistnew)-1):\n",
    "    #print(dump[i],\"\\n\\n\",IAM[i],\"\\n##########\\n\")\n",
    "    dumpl = linelistnew[i].lower()\n",
    "    iaml = IAM[i].lower()\n",
    "    match = SequenceMatcher(None,dumpl, iaml)\n",
    "    edit_dist = match.ratio()\n",
    "    edit_distances_clean .append(edit_dist) \n",
    "    \n",
    "    token_sort_ratio = fuzz.token_sort_ratio(dumpl, iaml)\n",
    "    ftsort_clean .append(token_sort_ratio)\n",
    "    \n",
    "    token_set_ratio = fuzz.token_set_ratio(dumpl, iaml)\n",
    "    ftset_clean .append(token_set_ratio)"
   ]
  },
  {
   "cell_type": "code",
   "execution_count": 5,
   "metadata": {},
   "outputs": [],
   "source": [
    "#import pickle\n",
    "#with open('/home/varshini/Capstone/spellcheck.pkl', 'rb') as f:\n",
    "    #linelistnew = pickle.load(f)"
   ]
  },
  {
   "cell_type": "markdown",
   "metadata": {},
   "source": [
    "### Accuracies of OCR Predicted Sentences- Similarity Measure"
   ]
  },
  {
   "cell_type": "code",
   "execution_count": 6,
   "metadata": {},
   "outputs": [
    {
     "name": "stdout",
     "output_type": "stream",
     "text": [
      "Average Fuzzy Token set ratio of OCR Prediction  77.1403118040089\n",
      "Average Fuzzy Token set ratio after Spellcheck   80.13363028953229\n"
     ]
    }
   ],
   "source": [
    "from statistics import mean\n",
    "print(\"Average Fuzzy Token set ratio of OCR Prediction \",mean(ftset))\n",
    "print(\"Average Fuzzy Token set ratio after Spellcheck  \",mean(ftset_clean))\n"
   ]
  },
  {
   "cell_type": "code",
   "execution_count": 7,
   "metadata": {},
   "outputs": [
    {
     "data": {
      "image/png": "[encoded data removed]",
      "text/plain": [
       "<Figure size 432x288 with 1 Axes>"
      ]
     },
     "metadata": {
      "needs_background": "light"
     },
     "output_type": "display_data"
    }
   ],
   "source": [
    "line1, = plt.plot([1, 2, 3], label=\"Recognized Text\", linestyle='-', color = 'y')\n",
    "line2, = plt.plot([3, 2, 1], label=\"Word Substituted Corrections\", linestyle='-', color = 'r')\n",
    "\n",
    "# Create a legend for the first line.\n",
    "first_legend = plt.legend(handles=[line1], loc='lower right')\n",
    "\n",
    "# Add the legend manually to the current Axes.\n",
    "ax = plt.gca().add_artist(first_legend)\n",
    "\n",
    "# Create another legend for the second line.\n",
    "plt.legend(handles=[line2], loc='upper right')\n",
    "plt.plot((ftset), 'y.', (ftset_clean), 'r.')\n",
    "plt.title('Comparison of Fuzzy Token Set Ratio for Recognized Text and Word Substituted Corrections')\n",
    "plt.ylabel('Fuzzy Token Set Similarity')\n",
    "plt.xlabel('Recognized Handwritten Text')\n",
    "plt.show()"
   ]
  },
  {
   "cell_type": "code",
   "execution_count": 8,
   "metadata": {},
   "outputs": [],
   "source": [
    "gcp_file = open('/home/varshini/Capstone/gcp.pickle','rb')\n",
    "gcp1 = pickle.load(gcp_file)\n",
    "gcp_file.close()"
   ]
  },
  {
   "cell_type": "code",
   "execution_count": 9,
   "metadata": {},
   "outputs": [],
   "source": [
    "gcp = [ v for v in gcp1.values() ]"
   ]
  },
  {
   "cell_type": "code",
   "execution_count": 10,
   "metadata": {},
   "outputs": [
    {
     "data": {
      "image/png": "[encoded data removed]",
      "text/plain": [
       "<Figure size 432x288 with 1 Axes>"
      ]
     },
     "metadata": {
      "needs_background": "light"
     },
     "output_type": "display_data"
    }
   ],
   "source": [
    "line1, = plt.plot([1, 2, 3], label=\"Proposed Model\", linestyle='-', color = 'y')\n",
    "line2, = plt.plot([3, 2, 1], label=\"Google Vision\", linestyle='-', color = 'b')\n",
    "\n",
    "# Create a legend for the first line.\n",
    "first_legend = plt.legend(handles=[line1], loc='upper right')\n",
    "\n",
    "# Add the legend manually to the current Axes.\n",
    "ax = plt.gca().add_artist(first_legend)\n",
    "\n",
    "# Create another legend for the second line.\n",
    "plt.legend(handles=[line2], loc='lower right')\n",
    "\n",
    "plt.plot((gcp), 'b.',(ftset_clean), 'y.')\n",
    "plt.title('Comparison of Fuzzy Token Set Ratio for Google Vision Model and Proposed Model')\n",
    "plt.ylabel('Fuzzy Token Set Similarity')\n",
    "plt.xlabel('Recognized Handwritten Text')\n",
    "plt.show()"
   ]
  },
  {
   "cell_type": "code",
   "execution_count": 11,
   "metadata": {},
   "outputs": [
    {
     "name": "stdout",
     "output_type": "stream",
     "text": [
      "Average Fuzzy Token set ratio Google Vision   18.51224944320713\n"
     ]
    }
   ],
   "source": [
    "print(\"Average Fuzzy Token set ratio Google Vision  \",mean(gcp))"
   ]
  },
  {
   "cell_type": "code",
   "execution_count": null,
   "metadata": {},
   "outputs": [],
   "source": [
    "with open('IAM_final.pkl', 'wb') as f:\n",
    "    pickle.dump(IAM, f)\n",
    "with open('dump_final.pkl', 'wb') as f:\n",
    "    pickle.dump(dump, f)"
   ]
  },
  {
   "cell_type": "code",
   "execution_count": null,
   "metadata": {},
   "outputs": [],
   "source": [
    "import language_check\n",
    "tool = language_check.LanguageTool('en-UK')\n",
    "text = u'A sentence with a error in the Hitchhiker’s Guide tot he Galaxy'\n",
    "matches = tool.check(text)"
   ]
  }
 ],
 "metadata": {
  "kernelspec": {
   "display_name": "Python 3",
   "language": "python",
   "name": "python3"
  },
  "language_info": {
   "codemirror_mode": {
    "name": "ipython",
    "version": 3
   },
   "file_extension": ".py",
   "mimetype": "text/x-python",
   "name": "python",
   "nbconvert_exporter": "python",
   "pygments_lexer": "ipython3",
   "version": "3.6.8"
  }
 },
 "nbformat": 4,
 "nbformat_minor": 2
}
